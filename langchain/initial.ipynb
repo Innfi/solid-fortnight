{
 "cells": [
  {
   "cell_type": "code",
   "execution_count": 8,
   "id": "9962042e",
   "metadata": {},
   "outputs": [
    {
     "data": {
      "text/plain": [
       "' painted with soft hues of orange and blue as the sun sets over the horizon. the water is calm, with small ripples reflecting the colors of the sky. a rocky shoreline is visible in the foreground, with a few scattered stones adding to the natural beauty of the scene. in the distance, a small island can be seen, silhouetted against the sunset. the clouds above are scattered with hints of pink, creating a peaceful and serene atmosphere. this is a perfect moment of tranquility and calm in nature.'"
      ]
     },
     "execution_count": 8,
     "metadata": {},
     "output_type": "execute_result"
    }
   ],
   "source": [
    "from langchain_openai import OpenAI\n",
    "from dotenv import load_dotenv\n",
    "import os\n",
    "\n",
    "# Load environment variables from .env file\n",
    "load_dotenv()\n",
    "\n",
    "# Now you can access them\n",
    "api_key = os.getenv('OPENAI_API_KEY')\n",
    "model = OpenAI(model='gpt-4o-mini', api_key=api_key)\n",
    "\n",
    "model.invoke('the sky is')\n"
   ]
  },
  {
   "cell_type": "code",
   "execution_count": 9,
   "id": "6ee4ab63",
   "metadata": {},
   "outputs": [
    {
     "data": {
      "text/plain": [
       "AIMessage(content='The capital of France is Paris.', additional_kwargs={'refusal': None}, response_metadata={'token_usage': {'completion_tokens': 7, 'prompt_tokens': 14, 'total_tokens': 21, 'completion_tokens_details': {'accepted_prediction_tokens': 0, 'audio_tokens': 0, 'reasoning_tokens': 0, 'rejected_prediction_tokens': 0}, 'prompt_tokens_details': {'audio_tokens': 0, 'cached_tokens': 0}}, 'model_provider': 'openai', 'model_name': 'gpt-4o-mini-2024-07-18', 'system_fingerprint': 'fp_51db84afab', 'id': 'chatcmpl-CUZ4dEIzmTImS6L3LGcWm3b7au48k', 'service_tier': 'default', 'finish_reason': 'stop', 'logprobs': None}, id='lc_run--f71b8191-0e88-4952-a398-8e644bcb715e-0', usage_metadata={'input_tokens': 14, 'output_tokens': 7, 'total_tokens': 21, 'input_token_details': {'audio': 0, 'cache_read': 0}, 'output_token_details': {'audio': 0, 'reasoning': 0}})"
      ]
     },
     "execution_count": 9,
     "metadata": {},
     "output_type": "execute_result"
    }
   ],
   "source": [
    "from langchain_openai.chat_models import ChatOpenAI\n",
    "from langchain_core.messages import HumanMessage\n",
    "\n",
    "model = ChatOpenAI(model='gpt-4o-mini', api_key=api_key)\n",
    "prompt = [HumanMessage('where is the capital of france?')]\n",
    "\n",
    "model.invoke(prompt)\n"
   ]
  },
  {
   "cell_type": "code",
   "execution_count": 10,
   "id": "32fe3e7e",
   "metadata": {},
   "outputs": [
    {
     "name": "stdout",
     "output_type": "stream",
     "text": [
      "{'answer': 'A kg of iron and a kg of cotton weigh the same; both are 1 kg.', 'justification': 'Weight is a measure of mass, and 1 kg is equal to 1 kg regardless of the material. Therefore, a kg of iron and a kg of cotton both have the same weight.'}\n",
      "{\"answer\":\"A kg of iron and a kg of cotton weigh the same; both are 1 kg.\",\"justification\":\"Weight is a measure of mass, and 1 kg is equal to 1 kg regardless of the material. Therefore, a kg of iron and a kg of cotton both have the same weight.\"}\n"
     ]
    }
   ],
   "source": [
    "from langchain_openai import ChatOpenAI\n",
    "from pydantic import BaseModel\n",
    "\n",
    "class AnswerWithJustification(BaseModel):\n",
    "    answer: str\n",
    "    justification: str\n",
    "\n",
    "llm = ChatOpenAI(model='gpt-4o-mini', api_key=api_key, temperature=0)\n",
    "structured_llm = llm.with_structured_output(AnswerWithJustification)\n",
    "\n",
    "result = structured_llm.invoke(\"which one is heavier, a kg of iron or a kg of cotton?\")\n",
    "\n",
    "print(result.model_dump())\n",
    "print(result.model_dump_json())"
   ]
  },
  {
   "cell_type": "code",
   "execution_count": 11,
   "id": "8acef3f6",
   "metadata": {},
   "outputs": [
    {
     "name": "stdout",
     "output_type": "stream",
     "text": [
      "content='Greetings! How can I assist you today?' additional_kwargs={'refusal': None} response_metadata={'token_usage': {'completion_tokens': 9, 'prompt_tokens': 10, 'total_tokens': 19, 'completion_tokens_details': {'accepted_prediction_tokens': 0, 'audio_tokens': 0, 'reasoning_tokens': 0, 'rejected_prediction_tokens': 0}, 'prompt_tokens_details': {'audio_tokens': 0, 'cached_tokens': 0}}, 'model_provider': 'openai', 'model_name': 'gpt-4o-mini-2024-07-18', 'system_fingerprint': 'fp_51db84afab', 'id': 'chatcmpl-CUZBhUph05C7942O5GocApuR9oRzJ', 'service_tier': 'default', 'finish_reason': 'stop', 'logprobs': None} id='lc_run--1aa01f40-3427-4476-9cac-0f87d7e93762-0' usage_metadata={'input_tokens': 10, 'output_tokens': 9, 'total_tokens': 19, 'input_token_details': {'audio': 0, 'cache_read': 0}, 'output_token_details': {'audio': 0, 'reasoning': 0}}\n",
      "[AIMessage(content='Greetings! How can I assist you today?', additional_kwargs={'refusal': None}, response_metadata={'token_usage': {'completion_tokens': 9, 'prompt_tokens': 10, 'total_tokens': 19, 'completion_tokens_details': {'accepted_prediction_tokens': 0, 'audio_tokens': 0, 'reasoning_tokens': 0, 'rejected_prediction_tokens': 0}, 'prompt_tokens_details': {'audio_tokens': 0, 'cached_tokens': 0}}, 'model_provider': 'openai', 'model_name': 'gpt-4o-mini-2024-07-18', 'system_fingerprint': 'fp_51db84afab', 'id': 'chatcmpl-CUZBin4QetNitDfx1vgyKfPwaLOSw', 'service_tier': 'default', 'finish_reason': 'stop', 'logprobs': None}, id='lc_run--196b3093-9545-4962-8e8d-08dde35cb9c6-0', usage_metadata={'input_tokens': 10, 'output_tokens': 9, 'total_tokens': 19, 'input_token_details': {'audio': 0, 'cache_read': 0}, 'output_token_details': {'audio': 0, 'reasoning': 0}}), AIMessage(content=\"Farewell! If you have any more questions in the future or need assistance, don't hesitate to reach out. Take care!\", additional_kwargs={'refusal': None}, response_metadata={'token_usage': {'completion_tokens': 25, 'prompt_tokens': 10, 'total_tokens': 35, 'completion_tokens_details': {'accepted_prediction_tokens': 0, 'audio_tokens': 0, 'reasoning_tokens': 0, 'rejected_prediction_tokens': 0}, 'prompt_tokens_details': {'audio_tokens': 0, 'cached_tokens': 0}}, 'model_provider': 'openai', 'model_name': 'gpt-4o-mini-2024-07-18', 'system_fingerprint': 'fp_560af6e559', 'id': 'chatcmpl-CUZBigXu6zzlLSULIU11ULC3ycbBR', 'service_tier': 'default', 'finish_reason': 'stop', 'logprobs': None}, id='lc_run--69caf44f-1747-4d88-8e8c-7af2c4e610e9-0', usage_metadata={'input_tokens': 10, 'output_tokens': 25, 'total_tokens': 35, 'input_token_details': {'audio': 0, 'cache_read': 0}, 'output_token_details': {'audio': 0, 'reasoning': 0}})]\n"
     ]
    }
   ],
   "source": [
    "from langchain_openai.chat_models import ChatOpenAI\n",
    "\n",
    "model = ChatOpenAI(model='gpt-4o-mini', api_key=api_key)\n",
    "\n",
    "completion = model.invoke('greetings!')\n",
    "print(completion)\n",
    "\n",
    "completion = model.batch(['greetings!', 'farewell!'])\n",
    "print(completion)\n"
   ]
  }
 ],
 "metadata": {
  "kernelspec": {
   "display_name": "Python 3",
   "language": "python",
   "name": "python3"
  },
  "language_info": {
   "codemirror_mode": {
    "name": "ipython",
    "version": 3
   },
   "file_extension": ".py",
   "mimetype": "text/x-python",
   "name": "python",
   "nbconvert_exporter": "python",
   "pygments_lexer": "ipython3",
   "version": "3.13.0b1"
  }
 },
 "nbformat": 4,
 "nbformat_minor": 5
}
