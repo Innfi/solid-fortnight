{
 "cells": [
  {
   "cell_type": "code",
   "execution_count": null,
   "id": "3c8bb9a7",
   "metadata": {},
   "outputs": [],
   "source": [
    "from langchain_core.documents import Document\n",
    "from langchain_core.embeddings import DeterministicFakeEmbedding\n",
    "from langchain_postgres import PGEngine, PGVectorStore\n",
    "from dotenv import load_dotenv\n",
    "import os\n",
    "\n",
    "# Load environment variables from .env file\n",
    "load_dotenv()\n",
    "\n",
    "pgvector_url = os.getenv('PGVECTOR_URL')\n",
    "engine = PGEngine.from_connection_string(url=pgvector_url)\n",
    "\n",
    "VECTOR_SIZE = 768\n",
    "embedding = DeterministicFakeEmbedding(size=VECTOR_SIZE)\n",
    "\n",
    "TABLE_NAME = \"my_doc_collection\"\n",
    "\n",
    "engine.init_vectorstore_table(\n",
    "    table_name=TABLE_NAME,\n",
    "    vector_size=VECTOR_SIZE,\n",
    ")\n",
    "\n",
    "store = PGVectorStore.create_sync(\n",
    "    engine=engine,\n",
    "    table_name=TABLE_NAME,\n",
    "    embedding_service=embedding,\n",
    ")\n",
    "\n",
    "docs = [\n",
    "    Document(page_content=\"Apples and oranges\"),\n",
    "    Document(page_content=\"Cars and airplanes\"),\n",
    "    Document(page_content=\"Train\")\n",
    "]\n",
    "\n",
    "store.add_documents(docs)\n",
    "\n",
    "query = \"I'd like a fruit.\"\n",
    "docs = store.similarity_search(query)\n",
    "print(docs)"
   ]
  }
 ],
 "metadata": {
  "kernelspec": {
   "display_name": "Python 3",
   "language": "python",
   "name": "python3"
  },
  "language_info": {
   "codemirror_mode": {
    "name": "ipython",
    "version": 3
   },
   "file_extension": ".py",
   "mimetype": "text/x-python",
   "name": "python",
   "nbconvert_exporter": "python",
   "pygments_lexer": "ipython3",
   "version": "3.13.0"
  }
 },
 "nbformat": 4,
 "nbformat_minor": 5
}
