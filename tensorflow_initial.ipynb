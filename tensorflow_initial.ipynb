{
 "cells": [
  {
   "cell_type": "code",
   "execution_count": null,
   "id": "9c41253c",
   "metadata": {},
   "outputs": [
    {
     "ename": "ModuleNotFoundError",
     "evalue": "No module named 'tensorflow'",
     "output_type": "error",
     "traceback": [
      "\u001b[31m---------------------------------------------------------------------------\u001b[39m",
      "\u001b[31mModuleNotFoundError\u001b[39m                       Traceback (most recent call last)",
      "\u001b[36mCell\u001b[39m\u001b[36m \u001b[39m\u001b[32mIn[1]\u001b[39m\u001b[32m, line 1\u001b[39m\n\u001b[32m----> \u001b[39m\u001b[32m1\u001b[39m \u001b[38;5;28;01mimport\u001b[39;00m\u001b[38;5;250m \u001b[39m\u001b[34;01mtensorflow\u001b[39;00m\u001b[38;5;250m \u001b[39m\u001b[38;5;28;01mas\u001b[39;00m\u001b[38;5;250m \u001b[39m\u001b[34;01mtf\u001b[39;00m \n\u001b[32m      2\u001b[39m x = tf.ones(shape=(\u001b[32m2\u001b[39m, \u001b[32m1\u001b[39m))\n\u001b[32m      3\u001b[39m \u001b[38;5;28mprint\u001b[39m (x)\n",
      "\u001b[31mModuleNotFoundError\u001b[39m: No module named 'tensorflow'"
     ]
    }
   ],
   "source": [
    "import tensorflow as tf \n",
    "x = tf.ones(shape=(2, 1))\n",
    "print(x)\n",
    "\n",
    "x = tf.zeros(shape=(2, 1))\n",
    "print(x)\n",
    "\n",
    "x = tf.random.normal(shape=(3,1), mean=0, stddev=1.)\n",
    "print(x)\n",
    "\n"
   ]
  },
  {
   "cell_type": "code",
   "execution_count": null,
   "id": "3729417e-6430-491f-a7d6-f4d14de78126",
   "metadata": {},
   "outputs": [],
   "source": [
    "import numpy as np\n",
    "import matplotlib.pyplot as plt\n",
    "\n",
    "num_samples_per_class = 1000\n",
    "negative_samples = np.random.multivariate_normal(\n",
    "  mean=[0, 3],\n",
    "  cov=[[1, 0.5], [0.5, 1]],\n",
    "  size=num_samples_per_class)\n",
    "positive_samples = np.random.multivariate_normal(\n",
    "  mean=[3, 0],\n",
    "  cov=[[1, 0.5], [0.5, 1]],\n",
    "  size=num_samples_per_class)\n",
    "\n",
    "inputs = np.vstack((negative_samples, positive_samples)).astype(np.float32)\n",
    "targets = np.vstack((np.zeros((num_samples_per_class, 1), dtype=\"float32\"),\n",
    "                     np.ones((num_samples_per_class, 1), dtype=\"float32\")))\n",
    "\n",
    "# plt.scatter(inputs[:, 0], inputs[:, 1], c=targets[:, 0])\n",
    "\n",
    "input_dim = 2\n",
    "output_dim = 1\n",
    "w = tf.Variable(initial_value=tf.random.uniform(shape=(input_dim, output_dim)))\n",
    "b = tf.Variable(initial_value=tf.zeros(shape=(output_dim,)))\n",
    "\n",
    "def model(inputs):\n",
    "  return tf.matmul(inputs, w) + b\n",
    "\n",
    "def square_loss(targets, predictions):\n",
    "  per_sample_losses = tf.square(targets - predictions)\n",
    "  return tf.reduce_mean(per_sample_losses)\n",
    "\n",
    "learning_rate = 0.1\n",
    "\n",
    "def training_step(inputs, targets):\n",
    "  with tf.GradientTape() as tape:\n",
    "    predictions = model(inputs)\n",
    "    loss = square_loss(targets, predictions)\n",
    "  grad_loss_wrt_w, grad_loss_wrt_b = tape.gradient(loss, [w, b])\n",
    "  w.assign_sub(grad_loss_wrt_w * learning_rate)\n",
    "  b.assign_sub(grad_loss_wrt_b * learning_rate)\n",
    "  return loss\n",
    "\n",
    "for step in range(100):\n",
    "  loss = training_step(inputs, targets)\n",
    "  print(f\" {step} {loss:.4f}\")\n",
    "\n",
    "predictions = model(inputs)\n",
    "# plt.scatter(inputs[:, 0], inputs[:, 1], c=predictions[:, 0] > 0.5)\n",
    "# plt.show()\n",
    "\n",
    "x = np.linspace(-1, 4, 100)\n",
    "y = - w[0] / w[1] * x + (0.5 -b) / w[1]\n",
    "plt.plot(x, y, \"-r\")\n",
    "plt.scatter(inputs[:, 0], inputs[:, 1], c=predictions[:, 0] > 0.5)\n",
    "plt.show()"
   ]
  }
 ],
 "metadata": {
  "kernelspec": {
   "display_name": "Python 3",
   "language": "python",
   "name": "python3"
  },
  "language_info": {
   "codemirror_mode": {
    "name": "ipython",
    "version": 3
   },
   "file_extension": ".py",
   "mimetype": "text/x-python",
   "name": "python",
   "nbconvert_exporter": "python",
   "pygments_lexer": "ipython3",
   "version": "3.13.1"
  }
 },
 "nbformat": 4,
 "nbformat_minor": 5
}
