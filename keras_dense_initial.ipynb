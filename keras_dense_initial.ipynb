{
 "cells": [
  {
   "cell_type": "code",
   "execution_count": null,
   "id": "58cda106",
   "metadata": {},
   "outputs": [],
   "source": [
    "import tensorflow as tf\n",
    "from tensorflow import keras\n",
    "\n",
    "class SimpleDense(keras.layers.Layer):\n",
    "  def __init__(self, units, activation=None):\n",
    "    super().__init__()\n",
    "    self.units = units\n",
    "    self.activation = activation\n",
    "\n",
    "  def build(self, input_shape):\n",
    "    input_dim = input_shape[-1]\n",
    "    self.w = self.add_weight(shape=(input_dim, self.units), initializer=\"random_normal\")\n",
    "    self.b = self.add_weight(shape=(self.units,), initializer=\"zeros\")\n",
    "\n",
    "  def call(self, inputs):\n",
    "    y = tf.matmul(inputs, self.w) + self.b\n",
    "    if self.activation is not None:\n",
    "      y = self.activation(y)\n",
    "    return y\n",
    "\n",
    "instance = SimpleDense(units=32, activation=tf.nn.relu)\n",
    "input_tensor = tf.ones(shape=(2, 784))\n",
    "output_tensor = instance(input_tensor)\n",
    "\n",
    "print(output_tensor)\n"
   ]
  }
 ],
 "metadata": {
  "language_info": {
   "name": "python"
  }
 },
 "nbformat": 4,
 "nbformat_minor": 5
}
