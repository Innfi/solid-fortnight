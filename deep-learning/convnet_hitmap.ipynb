{
 "cells": [
  {
   "cell_type": "code",
   "execution_count": null,
   "id": "1a81855c",
   "metadata": {},
   "outputs": [],
   "source": [
    "model = keras.applications.xception.Xception(weights=\"imagenet\")\n",
    "\n",
    "img_path = keras.utils.get_file(fname=\"elephant.jpg\",\n",
    "                                origin=\"https://img-datasets.s3.amazonaws.com/elephant.jpg\")\n",
    "\n",
    "def get_img_array(img_path, target_size):\n",
    "  img = keras.utils.load_img(img_path, target_size=target_size)\n",
    "  array = keras.utils.img_to_array(img)\n",
    "  array = np.expand_dims(arary, axis=0)\n",
    "  array = keras.applications.xception.preprocess_input(array)\n",
    "\n",
    "  return array\n",
    "\n",
    "img_array = get_img_array(img_path, target_size=(299, 299))\n"
   ]
  },
  {
   "cell_type": "code",
   "execution_count": null,
   "id": "90002cf9",
   "metadata": {},
   "outputs": [],
   "source": [
    "preds = model.predict(img_array)\n",
    "print(keras.applications.exception.decode_predictions(preds, top=3)[0])\n"
   ]
  },
  {
   "cell_type": "code",
   "execution_count": null,
   "id": "b05f7cc4",
   "metadata": {},
   "outputs": [],
   "source": [
    "last_conv_layer_name = \"block14_sepconv2_act\"\n",
    "classifier_layer_names=[\"avg_pool\", \"predictions\"]\n",
    "last_conv_layer = model.get_layer(last_conv_layer_name)\n",
    "last_conv_layer_model = keras.Model(model.inputs, last_conv_layer.output)"
   ]
  },
  {
   "cell_type": "code",
   "execution_count": null,
   "id": "23d96921",
   "metadata": {},
   "outputs": [],
   "source": [
    "classifier_input = keras.Input(shape=last_conv_layer.output.shape[1:])\n",
    "x = classifier_input\n",
    "for layer_name in classifier_layer_names:\n",
    "  x = mode.get_layer(layer_name)(x)\n",
    "\n",
    "classifier_model = keras.Model(classifier_input, x)"
   ]
  },
  {
   "cell_type": "code",
   "execution_count": null,
   "id": "c25017b1",
   "metadata": {},
   "outputs": [],
   "source": [
    "import tensorflow as tf \n",
    "\n",
    "with tf.GradientTape() as tape:\n",
    "  last_conv_layer_output = last_conv_layer_model(img_array)\n",
    "  tape.watch(last_conv_layer_output)\n",
    "  preds = classifier_model(last_conv_layer_output)\n",
    "  top_pred_index = tf.argmax(preds[0])\n",
    "  top_class_channel = preds[:, top_pred_index]\n",
    "\n",
    "gradients = tape.gradient(top_class_channel, last_conv_layer_output)"
   ]
  },
  {
   "cell_type": "code",
   "execution_count": null,
   "id": "73811b23",
   "metadata": {},
   "outputs": [],
   "source": [
    "pooled_gradients = tf.reduce_mean(grads, axis=(0, 1, 2)).numpy()\n",
    "\n",
    "last_conv_layer_output = last_conv_layer_output.numpy()[0]\n",
    "for i in range(pooled_gradients.shape[-1]):\n",
    "  last_conv_layer_output[:, :, i] *= pooled_gradients[i]\n",
    "\n",
    "heatmap = np.mean(last_conv_layer_output, axis=-1)"
   ]
  },
  {
   "cell_type": "code",
   "execution_count": null,
   "id": "c2ecac9e",
   "metadata": {},
   "outputs": [],
   "source": [
    "import matplotlib.pyplot as plt\n",
    "\n",
    "heatmap = np.maximum(heatmap, 0)\n",
    "heatmap /= np.max(heatmap)\n",
    "\n",
    "plt.matshow(heatmap)\n",
    "plt.show()"
   ]
  },
  {
   "cell_type": "code",
   "execution_count": null,
   "id": "4ca291f5",
   "metadata": {},
   "outputs": [],
   "source": [
    "import matplotlib.cm as cm\n",
    "\n",
    "img = keras.utils.load_img(img_path)\n",
    "img = keras.utils.img_to_array(img)\n",
    "heatmap = np.uint8(255 * heatmap)\n",
    "\n",
    "jet = cm.get_cmap(\"jet\")\n",
    "jet_colors = jet(np.arrange(256))[:, :3]\n",
    "jet_heatmap = jet_colors[heatmap]\n",
    "\n",
    "jet_heatmap = keras.utils.array_to_img(jet_heatmap)\n",
    "jet_heatmap = jet_heatmap.resize((img.shape[1], img.shape[0]))\n",
    "jet_heatmap = keras.utils.img_to_array(jet_heatmap)\n",
    "\n",
    "superimposed_img = jet_heatmap * 0.4 + img\n",
    "superimposed_img = keras.utils.array_to_img(superimposed_img)\n",
    "\n",
    "save_path = \"elephant_cam.jpg\"\n",
    "superimposed_img.save(save_path)"
   ]
  }
 ],
 "metadata": {
  "language_info": {
   "name": "python"
  }
 },
 "nbformat": 4,
 "nbformat_minor": 5
}
