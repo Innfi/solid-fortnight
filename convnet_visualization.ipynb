{
 "cells": [
  {
   "cell_type": "code",
   "execution_count": null,
   "id": "eeb51e2b",
   "metadata": {},
   "outputs": [],
   "source": [
    "from tensorflow import keras\n",
    "model = keras.models.load_model(\"convnet_from_scratch_with_aug.keras\")\n",
    "model.summary()"
   ]
  },
  {
   "cell_type": "code",
   "execution_count": null,
   "id": "03993145",
   "metadata": {},
   "outputs": [],
   "source": [
    "from tensorflow import keras\n",
    "import numpy as np\n",
    "\n",
    "url = \"https://img-datasets.s3.amazonaws.com/cat.jpg\"\n",
    "img_path = keras.utils.get_file(fname=\"cat.jpg\", origin=url)\n",
    "\n",
    "def get_img_array(img_path, target_size):\n",
    "  img = keras.utils.load_img(img_path, target_size=target_size)\n",
    "  array = keras.utils.img_to_array(img)\n",
    "  array = np.expand_dims(array, axis=0)\n",
    "\n",
    "  return array\n",
    "\n",
    "img_tensor = get_img_array(img_path, target_size=(180, 180))"
   ]
  },
  {
   "cell_type": "code",
   "execution_count": null,
   "id": "1692789e",
   "metadata": {},
   "outputs": [],
   "source": [
    "import matplotlib.pyplot as plt\n",
    "\n",
    "plt.axis(\"off\")\n",
    "plt.imshow(img_tensor[0].astype(\"uint8\"))\n",
    "plt.show()"
   ]
  },
  {
   "cell_type": "code",
   "execution_count": null,
   "id": "5b9294c4",
   "metadata": {},
   "outputs": [],
   "source": [
    "from tensorflow.keras import layers\n",
    "\n",
    "layer_outputs = []\n",
    "layer_names = []\n",
    "\n",
    "for layer in model.layers:\n",
    "  if isinstance(layer, (layers.Conv2D, layers.maxPooling2d)):\n",
    "    layer_outputs.append(layer.output)\n",
    "    layer_names.append(layer.name)\n",
    "\n",
    "activation_model = keras.Model(inputs=model.input, outputs=layer_outputs)\n",
    "\n",
    "activations = activation_model.predict(img_tensor)"
   ]
  },
  {
   "cell_type": "code",
   "execution_count": null,
   "id": "925ce7e1",
   "metadata": {},
   "outputs": [],
   "source": [
    "first_layer_activation = activations[0]\n",
    "\n",
    "plt.matshow(first_layer_activation[0, :, :, 5], cmap=\"viridis\")\n",
    "plt.show()"
   ]
  },
  {
   "cell_type": "code",
   "execution_count": null,
   "id": "76624a15",
   "metadata": {},
   "outputs": [],
   "source": [
    "images_per_row = 16\n",
    "\n",
    "for layer_name, layer_activation in zip(layer_names, activations):\n",
    "  n_features = layer_activation.shape[-1]\n",
    "  size = layer_activation.shape[1]\n",
    "  n_cols = n_features // images_per_row\n",
    "  display_grid = np.zeros((size+1) * n_cols-1, images_per_row * (size+1) - 1)\n",
    "\n",
    "  for col in range(n_cols):\n",
    "    for row in range(images_per_row):\n",
    "        channel_inex = col * images_per_row + row\n",
    "        channel_image = layer_activation[0, :, :, channel_inex].copy()\n",
    "\n",
    "        if channel_image.sum() != 0:\n",
    "           channel_image -= channel_image.mean()\n",
    "           channel_image /= channel_image.std()\n",
    "           channel_image *= 64\n",
    "           channel_image += 128\n",
    "\n",
    "        channel_image = np.clip(channel_image, 0, 255).astype(\"uint8\")\n",
    "        display_grid[\n",
    "          col * (size+1): (col+1) * size + col,\n",
    "          row * (size+1): (row+1) * size + row\n",
    "        ] = channel_image\n",
    "\n",
    "  scale = 1. / size\n",
    "\n",
    "  plt.figure(figsize=(scale*display_grid.shape[1], scale*display_grid.shape[0]))\n",
    "\n",
    "  plt.title(layer_name)\n",
    "  plt.grid(False)\n",
    "  plt.axis(\"off\")\n",
    "\n",
    "  plt.imshow(display_grid, aspect=\"auto\", cmap=\"viridis\")"
   ]
  }
 ],
 "metadata": {
  "language_info": {
   "name": "python"
  }
 },
 "nbformat": 4,
 "nbformat_minor": 5
}
