{
 "cells": [
  {
   "cell_type": "code",
   "execution_count": null,
   "id": "686abb6b",
   "metadata": {},
   "outputs": [],
   "source": [
    "from tensorflow import keras\n",
    "from tensorflow.keras import layers\n",
    "\n",
    "model = keras.applications.xception.Xception(weights=\"imagenet\", include_top=False)"
   ]
  },
  {
   "cell_type": "code",
   "execution_count": null,
   "id": "c5092877",
   "metadata": {},
   "outputs": [],
   "source": [
    "for layer in model.layers:\n",
    "  if isinstance(layer, (keras.layers.Conv2D, keras.layers.SeparableConv2D)):\n",
    "    print(layer.name)"
   ]
  },
  {
   "cell_type": "code",
   "execution_count": null,
   "id": "c58ab387",
   "metadata": {},
   "outputs": [],
   "source": [
    "layer_name = \"block3_sepconv1\"\n",
    "layer = model.get_layer(name=layer_name)\n",
    "feature_extractor = keras.Model(inputs=model.input, outputs=layer.output)\n",
    "\n",
    "activation = feature_extractor(keras.applications.xception.preprocess_input(img_tensor))"
   ]
  },
  {
   "cell_type": "code",
   "execution_count": null,
   "id": "a769442d",
   "metadata": {},
   "outputs": [],
   "source": [
    "import tensorflow as tf\n",
    "import numpy as np\n",
    "\n",
    "def compute_loss(image, filter_index):\n",
    "  activation = feature_extractor(image)\n",
    "  filter_activation = activation[:, 2:-2, 2:-2, filter_index]\n",
    "  return tf.reduce_mean(filter_activation)\n",
    "\n",
    "@tf.function\n",
    "def gradient_ascent_step(image, filter_index, learning_rate):\n",
    "  with tf.GradientTape() as tape:\n",
    "    tape.watch(image)\n",
    "    loss = compute_loss(image, filter_index)\n",
    "  grads = tape.gradient(loss, image)\n",
    "  grads = tf.math.l2_normalize(grads)\n",
    "  image += learning_rate * grads\n",
    "  return image\n",
    "\n",
    "img_width = 200\n",
    "img_height = 200\n",
    "\n",
    "def generate_filter_pattern(filter_index):\n",
    "  iterations = 30\n",
    "  learning_rate = 10.\n",
    "  image = tf.random.uniform(\n",
    "    minval=0.4,\n",
    "    maxval=0.6,\n",
    "    shape=(1, img_width, img_height, 3))\n",
    "  for i in range(iterations):\n",
    "    image = gradient_ascent_step(image, filter_index, learning_rate)\n",
    "  return image[0].numpy()\n",
    "\n",
    "def deprocess_image(image):\n",
    "  image -= image.mean()\n",
    "  image /= image.std()\n",
    "  image *= 64\n",
    "  image += 128\n",
    "  image = np.clip(image, 0, 255).astype(\"uint8\")\n",
    "  image = image[25:-25, 25:-25, :]\n",
    "  return image"
   ]
  },
  {
   "cell_type": "code",
   "execution_count": null,
   "id": "ba6a9c92",
   "metadata": {},
   "outputs": [],
   "source": [
    "import matplotlib.pyplot as plt\n",
    "\n",
    "plt.axis(\"off\")\n",
    "plt.imshow(deprocess_image(generate_filter_pattern(filter_index=2)))\n",
    "plt.show()"
   ]
  },
  {
   "cell_type": "code",
   "execution_count": null,
   "id": "3bd5a87e",
   "metadata": {},
   "outputs": [],
   "source": [
    "all_images = []\n",
    "for filter_index in range(64):\n",
    "  print(f\"processing {filter_index}\")\n",
    "  image = deprocess_image(generate_filter_pattern(filter_index))\n",
    "  all_images.append(image)\n",
    "\n",
    "margin = 5\n",
    "n = 8\n",
    "cropped_width = img_width - 25 * 2\n",
    "cropped_height = img_height - 25 * 2\n",
    "width = n * cropped_width + (n - 1) * margin\n",
    "height = n * cropped_height + (n - 1) * margin\n",
    "stitched_filters = np.zeros((width, height, 3))\n",
    "\n",
    "for i in range(n):\n",
    "  for j in range(n):\n",
    "    image = all_images[i * n + j]\n",
    "    stitched_filters[\n",
    "      (cropped_width + margin) * i : (cropped_width + margin) * i + cropped_width,\n",
    "      (cropped_height + margin) * j : (cropped_height + margin) * j\n",
    "      + cropped_height,\n",
    "      :,\n",
    "    ] = image\n",
    "\n",
    "keras.utils.save_img(f\"layer{layer_name}.png\", stitched_filters)"
   ]
  },
  {
   "cell_type": "code",
   "execution_count": null,
   "id": "7f17ae00",
   "metadata": {},
   "outputs": [],
   "source": [
    "from IPython.display import Image\n",
    "\n",
    "Image(f\"layer{layer_name}.png\")"
   ]
  }
 ],
 "metadata": {
  "language_info": {
   "name": "python"
  }
 },
 "nbformat": 4,
 "nbformat_minor": 5
}
