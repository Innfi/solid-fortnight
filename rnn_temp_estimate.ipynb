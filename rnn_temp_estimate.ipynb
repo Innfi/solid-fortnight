{
 "cells": [
  {
   "cell_type": "code",
   "execution_count": 1,
   "id": "82d59dd8",
   "metadata": {},
   "outputs": [
    {
     "name": "stderr",
     "output_type": "stream",
     "text": [
      "'wget'��(��) ���� �Ǵ� �ܺ� ����, ������ �� �ִ� ���α׷�, �Ǵ�\n",
      "��ġ ������ �ƴմϴ�.\n",
      "'unzip'��(��) ���� �Ǵ� �ܺ� ����, ������ �� �ִ� ���α׷�, �Ǵ�\n",
      "��ġ ������ �ƴմϴ�.\n"
     ]
    }
   ],
   "source": [
    "!wget https://s3.amazonaws.com/keras-datasets/jena_climate_2009_2016.csv.zip\n",
    "!unzip jena_climate_2009_2016.csv.zip"
   ]
  },
  {
   "cell_type": "code",
   "execution_count": null,
   "id": "4e83685a",
   "metadata": {},
   "outputs": [],
   "source": [
    "import os\n",
    "fname = os.path.join(\"jena_climate_2009_2016.csv\")\n",
    "\n",
    "with open(fname) as f:\n",
    "  data = f.read()\n",
    "\n",
    "lines = data.split(\"\\n\")\n",
    "header = lines[0].split(\",\")\n",
    "lines = lines[1:]\n",
    "print(header)\n",
    "print(len(lines))"
   ]
  },
  {
   "cell_type": "code",
   "execution_count": null,
   "id": "310571d2",
   "metadata": {},
   "outputs": [],
   "source": [
    "import numpy as np\n",
    "temperature = np.zeros((len(lines),))\n",
    "raw_data = np.zeros((len(lines), len(header) - 1))\n",
    "for i, line in enumerate(lines):\n",
    "  values = [float(x) for x in line.split(\",\")[1:]]\n",
    "  temperature[i] = values[1]\n",
    "  raw_data[i, :] = values[:]"
   ]
  },
  {
   "cell_type": "code",
   "execution_count": null,
   "id": "5188fd63",
   "metadata": {},
   "outputs": [],
   "source": [
    "from matplotlib import pyplot as plt\n",
    "plt.plot(range(len(temperature)), temperature)\n",
    "plt.show()"
   ]
  },
  {
   "cell_type": "code",
   "execution_count": null,
   "id": "e1e9d878",
   "metadata": {},
   "outputs": [],
   "source": [
    "num_train_samples = int(0.5 * len(raw_data))\n",
    "num_val_samples = int(0.25 * len(raw_data))\n",
    "num_test_samples = len(raw_data) - num_train_samples - num_val_samples\n",
    "print(\"num_train_samples:\", num_train_samples)\n",
    "print(\"num_val_samples:\", num_val_samples)\n",
    "print(\"num_test_samples:\", num_test_samples)\n",
    "\n",
    "mean = raw_data[:num_train_samples].mean(axis=0)\n",
    "raw_data -= mean\n",
    "std = raw_data[:num_train_samples].std(axis=0)\n",
    "raw_data /= std"
   ]
  },
  {
   "cell_type": "code",
   "execution_count": null,
   "id": "8b2c906e",
   "metadata": {},
   "outputs": [],
   "source": [
    "import numpy as np\n",
    "from tensorflow import keras\n",
    "\n",
    "int_sequence = np.arange(10)\n",
    "dummy_dataset = keras.utils.timeseries_dataset_from_array(\n",
    "  data=int_sequence[:-3],\n",
    "  targets=int_sequence[3:],\n",
    "  sequence_length=3,\n",
    "  batch_size=2,\n",
    ")\n",
    "\n",
    "for inputs, targets in dummy_dataset:\n",
    "  for i in range(inputs.shape[0]):\n",
    "    print([int(x) for x in inputs[i]], int(targets[i]))"
   ]
  },
  {
   "cell_type": "code",
   "execution_count": null,
   "id": "d33a8e66",
   "metadata": {},
   "outputs": [],
   "source": [
    "sampling_rate = 6\n",
    "sequence_length = 120\n",
    "delay = sampling_rate * (sequence_length + 24 - 1)\n",
    "batch_size = 256\n",
    "\n",
    "train_dataset = keras.utils.timeseries_dataset_from_array(\n",
    "  raw_data[:-delay],\n",
    "  targets=temperature[delay:],\n",
    "  sampling_rate=sampling_rate,\n",
    "  sequence_length=sequence_length,\n",
    "  shuffle=True,\n",
    "  batch_size=batch_size,\n",
    "  start_index=0,\n",
    "  end_index=num_train_samples)\n",
    "\n",
    "val_dataset = keras.utils.timeseries_dataset_from_array(\n",
    "  raw_data[:-delay],\n",
    "  targets=temperature[delay:],\n",
    "  sampling_rate=sampling_rate,\n",
    "  sequence_length=sequence_length,\n",
    "  shuffle=True,\n",
    "  batch_size=batch_size,\n",
    "  start_index=num_train_samples,\n",
    "  end_index=num_train_samples + num_val_samples)\n",
    "\n",
    "test_dataset = keras.utils.timeseries_dataset_from_array(\n",
    "  raw_data[:-delay],\n",
    "  targets=temperature[delay:],\n",
    "  sampling_rate=sampling_rate,\n",
    "  sequence_length=sequence_length,\n",
    "  shuffle=True,\n",
    "  batch_size=batch_size,\n",
    "  start_index=num_train_samples + num_val_samples)"
   ]
  },
  {
   "cell_type": "code",
   "execution_count": null,
   "id": "2c1bb313",
   "metadata": {},
   "outputs": [],
   "source": [
    "def evaluate_naive_method(dataset):\n",
    "  total_abs_err = 0.\n",
    "  samples_seen = 0\n",
    "  for samples, targets in dataset:\n",
    "    preds = samples[:, -1, 1] * std[1] + mean[1]\n",
    "    total_abs_err += np.sum(np.abs(preds - targets))\n",
    "    samples_seen += samples.shape[0]\n",
    "  return total_abs_err / samples_seen\n",
    "\n",
    "print(f\"validation MAE: {evaluate_naive_method(val_dataset):.2f}\")\n",
    "print(f\"test MAE: {evaluate_naive_method(test_dataset):.2f}\")"
   ]
  }
 ],
 "metadata": {
  "kernelspec": {
   "display_name": "Python 3",
   "language": "python",
   "name": "python3"
  },
  "language_info": {
   "codemirror_mode": {
    "name": "ipython",
    "version": 3
   },
   "file_extension": ".py",
   "mimetype": "text/x-python",
   "name": "python",
   "nbconvert_exporter": "python",
   "pygments_lexer": "ipython3",
   "version": "3.13.1"
  }
 },
 "nbformat": 4,
 "nbformat_minor": 5
}
